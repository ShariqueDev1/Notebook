{
 "cells": [
  {
   "cell_type": "code",
   "execution_count": null,
   "id": "a953c735-00fa-406f-b4eb-26338edd290a",
   "metadata": {},
   "outputs": [],
   "source": [
    "class Human: # class name\n",
    "    \"\"\"Human nature is to err\"\"\" # doc string\n",
    "    \n",
    "    species = \"Human\" # class attribute or class variable\n",
    "    \n",
    "    def __init__(self, name): # dunder / magic / constructor methode\n",
    "        self.name = name # instance variable\n",
    "        \n",
    "    def sing(self): # instance method\n",
    "        print(f \"{self.name} can sing.\") # void method"
   ]
  }
 ],
 "metadata": {
  "kernelspec": {
   "display_name": "Python 3 (ipykernel)",
   "language": "python",
   "name": "python3"
  },
  "language_info": {
   "codemirror_mode": {
    "name": "ipython",
    "version": 3
   },
   "file_extension": ".py",
   "mimetype": "text/x-python",
   "name": "python",
   "nbconvert_exporter": "python",
   "pygments_lexer": "ipython3",
   "version": "3.10.6"
  }
 },
 "nbformat": 4,
 "nbformat_minor": 5
}
